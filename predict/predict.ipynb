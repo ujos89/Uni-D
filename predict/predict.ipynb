{
  "nbformat": 4,
  "nbformat_minor": 0,
  "metadata": {
    "colab": {
      "name": "predict.ipynb",
      "provenance": [],
      "collapsed_sections": []
    },
    "kernelspec": {
      "name": "python3",
      "display_name": "Python 3"
    },
    "language_info": {
      "name": "python"
    }
  },
  "cells": [
    {
      "cell_type": "code",
      "metadata": {
        "id": "87Cx9xJSiBDr"
      },
      "source": [
        "# 필요한 패키지 추가\n",
        "### start\n",
        "\n",
        "### end"
      ],
      "execution_count": 2,
      "outputs": []
    },
    {
      "cell_type": "code",
      "metadata": {
        "id": "XqHBJdPJifGN"
      },
      "source": [
        "# 테스트 데이터셋 경로\n",
        "test_data_path = './test_dataset'"
      ],
      "execution_count": null,
      "outputs": []
    },
    {
      "cell_type": "code",
      "metadata": {
        "id": "_0-d6WIEJRmM"
      },
      "source": [
        "# predict 함수 (참가자 필수 구현)\n",
        "#\n",
        "# return\n",
        "#   type: dict\n",
        "#   length: # of test data\n",
        "#   key: hash number, value: predicted label (소분류, ex. 갈비구이)\n",
        "#\n",
        "#   example: {10000: '갈비구이', 10002: '순두부찌개', ..., 93748: '경단'}\n",
        "def predict():\n",
        "    return dict()"
      ],
      "execution_count": null,
      "outputs": []
    },
    {
      "cell_type": "code",
      "metadata": {
        "id": "NNGKt7i8INR-"
      },
      "source": [
        "# 채점 함수\n",
        "def print_accuracy():\n",
        "    # True label\n",
        "    true_labels = dict()\n",
        "\n",
        "    with open(test_data_path + '/hash_table.txt', 'rt', encoding='euc-kr') as f:\n",
        "        lines = f.readlines()\n",
        "\n",
        "        for line in lines:\n",
        "            line = line.strip()\n",
        "\n",
        "            hash_num, label = tuple(line.split(', '))\n",
        "            hash_num = int(hash_num)\n",
        "\n",
        "            true_labels[hash_num] = label\n",
        "\n",
        "    # Compare\n",
        "    predicted_labels = predict()\n",
        "\n",
        "    try:\n",
        "        cnt = 0\n",
        "\n",
        "        for hash_num in true_labels.keys():\n",
        "            if true_labels[hash_num] == predicted_labels[hash_num]:\n",
        "                cnt = cnt + 1\n",
        "\n",
        "        print(f\"Accuracy: {cnt / len(true_labels)}\")\n",
        "\n",
        "    except Exception as e:\n",
        "        print(\"predict()의 반환 양식이 올바르지 않습니다.\")"
      ],
      "execution_count": 1,
      "outputs": []
    },
    {
      "cell_type": "code",
      "metadata": {
        "colab": {
          "base_uri": "https://localhost:8080/"
        },
        "id": "o2v5LExmIQDf",
        "outputId": "01fe1fba-9f92-4e03-fe3d-860ecc7cbd35"
      },
      "source": [
        "print_accuracy()"
      ],
      "execution_count": null,
      "outputs": [
        {
          "output_type": "stream",
          "name": "stdout",
          "text": [
            "Size가 일치하지 않습니다.\n"
          ]
        }
      ]
    }
  ]
}